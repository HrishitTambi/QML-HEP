{
  "nbformat": 4,
  "nbformat_minor": 0,
  "metadata": {
    "colab": {
      "provenance": [],
      "authorship_tag": "ABX9TyME9enr8HfzBtDYk3yJ9/cg",
      "include_colab_link": true
    },
    "kernelspec": {
      "name": "python3",
      "display_name": "Python 3"
    },
    "language_info": {
      "name": "python"
    }
  },
  "cells": [
    {
      "cell_type": "markdown",
      "metadata": {
        "id": "view-in-github",
        "colab_type": "text"
      },
      "source": [
        "<a href=\"https://colab.research.google.com/github/HrishitTambi/QML-HEP-GSOC-2023/blob/main/QML_HEP_GSoC_2023_Task_I.ipynb\" target=\"_parent\"><img src=\"https://colab.research.google.com/assets/colab-badge.svg\" alt=\"Open In Colab\"/></a>"
      ]
    },
    {
      "cell_type": "code",
      "source": [
        "!pip install pennylane\n",
        "!pip install cirq\n",
        "\n",
        "from IPython.display import clear_output\n",
        "clear_output()"
      ],
      "metadata": {
        "id": "HrTqRogycGT9"
      },
      "execution_count": 47,
      "outputs": []
    },
    {
      "cell_type": "code",
      "execution_count": 48,
      "metadata": {
        "id": "NC2EyEacS7wz"
      },
      "outputs": [],
      "source": [
        "import pennylane as qml\n",
        "from pennylane import numpy as np"
      ]
    },
    {
      "cell_type": "markdown",
      "metadata": {
        "id": "kbNZLfmRPwHO"
      },
      "source": [
        "# Task I: Quantum Computing Part"
      ]
    },
    {
      "cell_type": "markdown",
      "metadata": {
        "id": "IzxvrZHDP0ad"
      },
      "source": [
        "## 1) Implement a simple quantum operation with Cirq or Pennylane\n"
      ]
    },
    {
      "cell_type": "code",
      "source": [
        "dev = qml.device(\"default.qubit\", wires=5)"
      ],
      "metadata": {
        "id": "OoF1fjy3Usg1"
      },
      "execution_count": 49,
      "outputs": []
    },
    {
      "cell_type": "code",
      "source": [
        "@qml.qnode(dev)\n",
        "def circuit():\n",
        "    # Apply Hadamard operation on every qubit\n",
        "    for i in range(5):\n",
        "        qml.Hadamard(wires=i)\n",
        "    # Apply CNOT operation on (0, 1), (1,2), (2,3), (3,4)\n",
        "    for i in range(4):\n",
        "        qml.CNOT(wires=[i,i+1])\n",
        "    # Apply SWAP (0, 4)\n",
        "    qml.SWAP(wires=[0, 4])\n",
        "    # Apply Rotate X with pi/2 on any qubit\n",
        "    qml.RX(np.pi/2, wires=0)\n",
        "\n",
        "    # Return the expectation value of Pauli-Z on all qubits\n",
        "    return [qml.expval(qml.PauliZ(wires=i)) for i in range(5)]"
      ],
      "metadata": {
        "id": "nw9Cj994U-3N"
      },
      "execution_count": 50,
      "outputs": []
    },
    {
      "cell_type": "code",
      "source": [
        "# Plot the circuit \n",
        "print(qml.draw(circuit)())"
      ],
      "metadata": {
        "colab": {
          "base_uri": "https://localhost:8080/"
        },
        "id": "aNTm6nxKz6Pj",
        "outputId": "1d198761-8f4f-4709-e15d-bb8417e45c64"
      },
      "execution_count": 51,
      "outputs": [
        {
          "output_type": "stream",
          "name": "stdout",
          "text": [
            "0: ──H─╭●──────────╭SWAP──RX(1.57)─┤  <Z>\n",
            "1: ──H─╰X─╭●───────│───────────────┤  <Z>\n",
            "2: ──H────╰X─╭●────│───────────────┤  <Z>\n",
            "3: ──H───────╰X─╭●─│───────────────┤  <Z>\n",
            "4: ──H──────────╰X─╰SWAP───────────┤  <Z>\n"
          ]
        }
      ]
    },
    {
      "cell_type": "markdown",
      "metadata": {
        "id": "zovsWuMobo-D"
      },
      "source": [
        "## 2) Implement a second circuit with a framework of your choice."
      ]
    },
    {
      "cell_type": "code",
      "source": [
        "import cirq\n",
        "import numpy as np\n",
        "import matplotlib.pyplot as plt"
      ],
      "metadata": {
        "id": "_QZbsCsYio8y"
      },
      "execution_count": 52,
      "outputs": []
    },
    {
      "cell_type": "code",
      "source": [
        "qubits = cirq.LineQubit.range(4)\n",
        "control0 = cirq.LineQubit(4)\n",
        "control1 = cirq.LineQubit(5)\n",
        "\n",
        "circuit = cirq.Circuit(\n",
        "    # Apply a Hadmard gate to the first qubit\n",
        "    cirq.H(qubits[0]),\n",
        "    # Rotate the second qubit by pi/3 around X\n",
        "    cirq.rx(np.pi/3)(qubits[1]),\n",
        "    # Apply Hadamard gate to the third and fourth qubit\n",
        "    cirq.H(qubits[2]),\n",
        "    cirq.H(qubits[3]),\n",
        "    # Perform a swap test between the states |q1 q2> and |q3 q4>\n",
        "    cirq.H(control0),\n",
        "    cirq.H(control1),\n",
        "    cirq.CSWAP(control0, qubits[0], qubits[1]),\n",
        "    cirq.CSWAP(control1, qubits[2], qubits[3]),\n",
        "    cirq.H(control0),\n",
        "    cirq.H(control1),\n",
        "    cirq.measure(control0, key='result1'),\n",
        "    cirq.measure(control1, key='result2')\n",
        ")\n",
        "\n",
        "print(circuit)\n",
        "sim=cirq.Simulator()\n",
        "samples=sim.run(circuit, repetitions=1000)\n",
        "# Plot the probability of measuring the state in the |0⟩ state\n",
        "print(\"Probability of measuring control0 qubit in the |0⟩ state:\", samples.histogram(key=\"result1\")[0]/1000)\n",
        "data = samples.measurements['result1'].reshape(1000,)\n",
        "d = np.diff(np.unique(data)).min()\n",
        "left_of_first_bin = data.min() - float(d)/2\n",
        "right_of_last_bin = data.max() + float(d)/2\n",
        "plt.hist(data, np.arange(left_of_first_bin, right_of_last_bin + d, d), rwidth=0.1)\n",
        "plt.show()\n",
        "print(\"Probability of measuring control1 qubit in the |0⟩ state:\", samples.histogram(key=\"result2\")[0]/1000)\n",
        "data = samples.measurements['result2'].reshape(1000,)\n",
        "plt.hist(data, bins=[-0.1, 0.1, 1.2], align='mid', rwidth=0.6)\n",
        "plt.show()"
      ],
      "metadata": {
        "id": "znVsq2fEjRUZ",
        "colab": {
          "base_uri": "https://localhost:8080/",
          "height": 773
        },
        "outputId": "d42c4b15-76ff-4874-f24f-15d55f5b46f5"
      },
      "execution_count": 54,
      "outputs": [
        {
          "output_type": "stream",
          "name": "stdout",
          "text": [
            "                   ┌──┐\n",
            "0: ───H─────────────×────────────────────────\n",
            "                    │\n",
            "1: ───Rx(0.333π)────×────────────────────────\n",
            "                    │\n",
            "2: ───H─────────────┼×───────────────────────\n",
            "                    ││\n",
            "3: ───H─────────────┼×───────────────────────\n",
            "                    ││\n",
            "4: ───H─────────────@┼────H───M('result1')───\n",
            "                     │\n",
            "5: ───H──────────────@────H───M('result2')───\n",
            "                   └──┘\n",
            "Probability of measuring control0 qubit in the |0⟩ state: 0.741\n"
          ]
        },
        {
          "output_type": "display_data",
          "data": {
            "text/plain": [
              "<Figure size 432x288 with 1 Axes>"
            ],
            "image/png": "[encoded data removed]"
          },
          "metadata": {
            "needs_background": "light"
          }
        },
        {
          "output_type": "stream",
          "name": "stdout",
          "text": [
            "Probability of measuring control1 qubit in the |0⟩ state: 1.0\n"
          ]
        },
        {
          "output_type": "display_data",
          "data": {
            "text/plain": [
              "<Figure size 432x288 with 1 Axes>"
            ],
            "image/png": "[encoded data removed]"
          },
          "metadata": {
            "needs_background": "light"
          }
        }
      ]
    }
  ]
}
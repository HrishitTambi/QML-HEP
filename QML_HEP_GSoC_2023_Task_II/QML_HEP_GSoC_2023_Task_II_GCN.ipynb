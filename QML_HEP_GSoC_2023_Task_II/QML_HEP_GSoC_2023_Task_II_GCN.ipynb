{
  "cells": [
    {
      "cell_type": "code",
      "execution_count": 2,
      "metadata": {
        "id": "B93AZhSvXSiJ",
        "colab": {
          "base_uri": "https://localhost:8080/"
        },
        "outputId": "ac8f2f02-416a-416a-bb5b-4f2ca3be2515"
      },
      "outputs": [
        {
          "output_type": "execute_result",
          "data": {
            "text/plain": [
              "('QG_jets.npz', <http.client.HTTPMessage at 0x7f23596732b0>)"
            ]
          },
          "metadata": {},
          "execution_count": 2
        }
      ],
      "source": [
        "import urllib.request\n",
        "\n",
        "urllib.request.urlretrieve(\"https://zenodo.org/record/3164691/files/QG_jets_10.npz\", \"QG_jets.npz\")"
      ]
    },
    {
      "cell_type": "code",
      "execution_count": 3,
      "metadata": {
        "id": "hlBvKPE_9-lF"
      },
      "outputs": [],
      "source": [
        "from IPython.display import clear_output\n",
        "\n",
        "# Install Pytorch Geometric\n",
        "!pip install -q torch-scatter==latest+cu101 -f https://pytorch-geometric.com/whl/torch-1.6.0.html\n",
        "!pip install -q torch-sparse==latest+cu101 -f https://pytorch-geometric.com/whl/torch-1.6.0.html\n",
        "!pip install -q git+https://github.com/rusty1s/pytorch_geometric.git\n",
        "\n",
        "clear_output()"
      ]
    },
    {
      "cell_type": "markdown",
      "source": [
        "# Task II: Classical Graph Neural Network (GNN) Part\n",
        "\n",
        "Use ParticleNet’s data for Quark/Gluon jet classification. Choose 2 Graph-based architectures of your choice to classify jets as being quarks or gluons. Provide a description on what considerations you have taken to project this point-cloud dataset to a set of interconnected nodes and edges. Discuss the resulting performance of the 2 chosen architectures."
      ],
      "metadata": {
        "id": "z1XsoJ_Rhmdu"
      }
    },
    {
      "cell_type": "markdown",
      "source": [
        "## Overview of the Dataset\n"
      ],
      "metadata": {
        "id": "L3ioG4namkht"
      }
    },
    {
      "cell_type": "markdown",
      "source": [
        "The input file has 100k jets, exactly 50k quark and 50k gluon jets, randomly sorted. Every jet in the file contains  M  x  F  data where  M  is the maximum number of multiplicity of the jets in the file and  F  is the number of each particle's features (pt, rapidity, azimuthal angle, and Particle Data Group ID)."
      ],
      "metadata": {
        "id": "mVsxir2bnSRD"
      }
    },
    {
      "cell_type": "markdown",
      "source": [
        "## Graph-Based Architectures for Jet Classification: Selection and Considerations\n",
        "\n"
      ],
      "metadata": {
        "id": "MhOs8YI5iILx"
      }
    },
    {
      "cell_type": "markdown",
      "source": [
        "Here we will use Pytorch Geometric to convert our data into Graph represantation.\n",
        "\n",
        "A Jet is encoded as a graph.\n",
        "\n",
        "Each constitute (track) is encoded as a node of the graph, with the four-dimensional vector as its node features.  \n",
        "\n",
        "We use the coordinates of the particles in the (eta, phi) space to calculate distance for k-NN."
      ],
      "metadata": {
        "id": "46O2bH_Xrn-j"
      }
    },
    {
      "cell_type": "code",
      "execution_count": 4,
      "metadata": {
        "id": "pwcOaxLjP27L",
        "colab": {
          "base_uri": "https://localhost:8080/"
        },
        "outputId": "ebbce6ad-c1aa-4ec1-b001-ca427b904201"
      },
      "outputs": [
        {
          "output_type": "stream",
          "name": "stdout",
          "text": [
            "['X', 'y']\n"
          ]
        }
      ],
      "source": [
        "import pandas as pd\n",
        "import numpy as np\n",
        "import torch\n",
        "\n",
        "device = torch.device('cuda' if torch.cuda.is_available() else 'cpu')\n",
        "df = np.load('/content/QG_jets.npz')\n",
        "lst = df.files\n",
        "print(list(df.keys()))"
      ]
    },
    {
      "cell_type": "markdown",
      "source": [
        "Here we define a custom PyTorch Geometric dataset called JetDataset. The dataset is created by iterating over the input data (x and y) and creating a Data object for each instance. The zero-particle nodes are removed, and a k-nearest neighbors (k-NN) graph is computed using the Euclidean distance metric based on the particle features. The node feature matrix is constructed from the particle features, and the target tensor is created from the jet label."
      ],
      "metadata": {
        "id": "DYsHjZywwz_A"
      }
    },
    {
      "cell_type": "code",
      "source": [
        "import torch_geometric\n",
        "from torch_geometric.data import Data, Dataset\n",
        "from sklearn.neighbors import NearestNeighbors\n",
        "\n",
        "# Load the data\n",
        "x = df['X']\n",
        "y = df['y']\n",
        "\n",
        "# Define the number of node features and classes\n",
        "num_node_features = 4\n",
        "num_classes = 2\n",
        "\n",
        "# Create a custom PyTorch Geometric dataset\n",
        "class JetDataset(Dataset):\n",
        "    def __init__(self, x, y):\n",
        "        self.data_list = []\n",
        "        self._indices = None\n",
        "        self.transform = None\n",
        "        \n",
        "        for i in range(len(x)):\n",
        "            # Remove zero-particle nodes\n",
        "            x_graph = x[i][np.any(x[i], axis=1)]\n",
        "            num_nodes = x_graph.shape[0]\n",
        "            \n",
        "            # Compute k-NN graph\n",
        "            x_coord = x_graph[:,1:3]  # rapidity and azimuthal angle values\n",
        "            if num_nodes <= 4:\n",
        "                k = 2\n",
        "            else:\n",
        "                k = 4\n",
        "            knn = NearestNeighbors(n_neighbors=k, metric='euclidean')\n",
        "            knn.fit(x_coord)\n",
        "            edge_index = knn.kneighbors_graph(x_coord, mode='connectivity').tocoo()\n",
        "            \n",
        "            # Convert edge index to tensor\n",
        "            row = torch.from_numpy(edge_index.row.astype(np.int64))\n",
        "            col = torch.from_numpy(edge_index.col.astype(np.int64))\n",
        "            edge_index = torch.stack([row, col], dim=0)\n",
        "            \n",
        "            # Create node feature matrix and target tensor\n",
        "            x_node = torch.FloatTensor(x_graph)\n",
        "            y_graph = torch.LongTensor([y[i]])\n",
        "            \n",
        "            # Create a Data object and append to data_list\n",
        "            data = Data(x=x_node, edge_index=edge_index, y=y_graph)\n",
        "            self.data_list.append(data)\n",
        "    \n",
        "    def len(self):\n",
        "        return len(self.data_list)\n",
        "    \n",
        "    def get(self, index):\n",
        "        return self.data_list[index]\n",
        "\n",
        "# Create the PyTorch Geometric dataset\n",
        "graph_dataset = JetDataset(x, y)"
      ],
      "metadata": {
        "id": "1Nqjb65yZNL_"
      },
      "execution_count": null,
      "outputs": []
    },
    {
      "cell_type": "code",
      "source": [
        "print()\n",
        "print(f'Dataset: {graph_dataset}:')\n",
        "print('====================')\n",
        "print(f'Number of graphs: {len(graph_dataset)}')\n",
        "print(f'Number of features: {graph_dataset.num_features}')\n",
        "print(f'Number of classes: {graph_dataset.num_classes}')\n",
        "\n",
        "data = graph_dataset[0]  # Get the first graph object.\n",
        "\n",
        "print()\n",
        "print(data)\n",
        "print('=============================================================')\n",
        "\n",
        "# Gather some statistics about the first graph.\n",
        "print(f'Number of nodes: {data.num_nodes}')\n",
        "print(f'Number of edges: {data.num_edges}')\n",
        "print(f'Average node degree: {data.num_edges / data.num_nodes:.2f}')\n",
        "print(f'Has isolated nodes: {data.has_isolated_nodes()}')\n",
        "print(f'Has self-loops: {data.has_self_loops()}')\n",
        "print(f'Is undirected: {data.is_undirected()}')"
      ],
      "metadata": {
        "id": "c4lnP-NUuXG4",
        "colab": {
          "base_uri": "https://localhost:8080/"
        },
        "outputId": "e051771e-ee5a-4191-efb7-58287b9021b4"
      },
      "execution_count": 6,
      "outputs": [
        {
          "output_type": "stream",
          "name": "stdout",
          "text": [
            "\n",
            "Dataset: JetDataset(100000):\n",
            "====================\n",
            "Number of graphs: 100000\n",
            "Number of features: 4\n",
            "Number of classes: 2\n",
            "\n",
            "Data(x=[66, 4], edge_index=[2, 264], y=[1])\n",
            "=============================================================\n",
            "Number of nodes: 66\n",
            "Number of edges: 264\n",
            "Average node degree: 4.00\n",
            "Has isolated nodes: False\n",
            "Has self-loops: True\n",
            "Is undirected: False\n"
          ]
        }
      ]
    },
    {
      "cell_type": "code",
      "source": [
        "torch.manual_seed(12345)\n",
        "dataset = graph_dataset.shuffle()\n",
        "\n",
        "train_dataset = dataset[:80000]\n",
        "test_dataset = dataset[80000:]\n",
        "\n",
        "print(f'Number of training graphs: {len(train_dataset)}')\n",
        "print(f'Number of test graphs: {len(test_dataset)}')"
      ],
      "metadata": {
        "id": "uTwSaG_owq9A",
        "colab": {
          "base_uri": "https://localhost:8080/"
        },
        "outputId": "abbe1f31-bb82-4aa2-cd0b-a3f09986158f"
      },
      "execution_count": 7,
      "outputs": [
        {
          "output_type": "stream",
          "name": "stdout",
          "text": [
            "Number of training graphs: 80000\n",
            "Number of test graphs: 20000\n"
          ]
        }
      ]
    },
    {
      "cell_type": "code",
      "source": [
        "from torch_geometric.loader import DataLoader\n",
        "\n",
        "train_loader = DataLoader(train_dataset, batch_size=64, shuffle=True)\n",
        "test_loader = DataLoader(test_dataset, batch_size=64, shuffle=False)\n",
        "\n",
        "for step, data in enumerate(train_loader):\n",
        "    print(f'Step {step + 1}:')\n",
        "    print('=======')\n",
        "    print(f'Number of graphs in the current batch: {data.num_graphs}')\n",
        "    print(data)\n",
        "    print()"
      ],
      "metadata": {
        "id": "mWVc7mCUttAm"
      },
      "execution_count": null,
      "outputs": []
    },
    {
      "cell_type": "markdown",
      "source": [
        "The model has three GCN layers, each with a hidden channel size of 64. It also has a final linear layer to output the node classifications.\n",
        "\n",
        "In the forward method, the node feature matrix x is passed through each of the three GCN layers using the GCNConv layer class from torch_geometric.nn. The output of each layer is then passed through a ReLU activation function. The resulting node embeddings are then aggregated across all nodes in each graph in the batch using the global_mean_pool function. Finally, the aggregated node embeddings are passed through a final dropout layer and the linear output layer."
      ],
      "metadata": {
        "id": "KiOM8mW9yUa4"
      }
    },
    {
      "cell_type": "code",
      "source": [
        "from torch.nn import Linear\n",
        "import torch.nn.functional as F\n",
        "from torch_geometric.nn import GCNConv\n",
        "from torch_geometric.nn import global_mean_pool\n",
        "\n",
        "class GCN(torch.nn.Module):\n",
        "    def __init__(self, hidden_channels):\n",
        "        super(GCN, self).__init__()\n",
        "        torch.manual_seed(12345)\n",
        "        self.conv1 = GCNConv(dataset.num_node_features, hidden_channels)\n",
        "        self.conv2 = GCNConv(hidden_channels, hidden_channels)\n",
        "        self.conv3 = GCNConv(hidden_channels, hidden_channels)\n",
        "        self.lin = Linear(hidden_channels, dataset.num_classes)\n",
        "\n",
        "    def forward(self, x, edge_index, batch):\n",
        "        # 1. Obtain node embeddings \n",
        "        x = self.conv1(x, edge_index)\n",
        "        x = x.relu()\n",
        "        x = self.conv2(x, edge_index)\n",
        "        x = x.relu()\n",
        "        x = self.conv3(x, edge_index)\n",
        "\n",
        "        # 2. Readout layer\n",
        "        x = global_mean_pool(x, batch)  # [batch_size, hidden_channels]\n",
        "\n",
        "        # 3. Apply a final classifier\n",
        "        x = F.dropout(x, p=0.5, training=self.training)\n",
        "        x = self.lin(x)\n",
        "        \n",
        "        return x\n",
        "\n",
        "model = GCN(hidden_channels=64)\n",
        "print(model)"
      ],
      "metadata": {
        "id": "RFUvI2T0xFcy",
        "colab": {
          "base_uri": "https://localhost:8080/"
        },
        "outputId": "35ff6a95-933d-4a04-8d8c-667eb422079e"
      },
      "execution_count": 9,
      "outputs": [
        {
          "output_type": "stream",
          "name": "stdout",
          "text": [
            "GCN(\n",
            "  (conv1): GCNConv(4, 64)\n",
            "  (conv2): GCNConv(64, 64)\n",
            "  (conv3): GCNConv(64, 64)\n",
            "  (lin): Linear(in_features=64, out_features=2, bias=True)\n",
            ")\n"
          ]
        }
      ]
    },
    {
      "cell_type": "code",
      "source": [
        "import matplotlib.pyplot as plt\n",
        "\n",
        "model.to(device)\n",
        "\n",
        "optimizer = torch.optim.Adam(model.parameters(), lr=0.001)\n",
        "criterion = torch.nn.CrossEntropyLoss()\n",
        "\n",
        "# Define lists to store accuracy and loss values during training\n",
        "train_acc_list = []\n",
        "test_acc_list = []\n",
        "\n",
        "def train():\n",
        "    model.train()\n",
        "\n",
        "    for data in train_loader:  # Iterate in batches over the training dataset.\n",
        "      data.to(device)\n",
        "      out = model(data.x, data.edge_index, data.batch)  # Perform a single forward pass.\n",
        "      loss = criterion(out, data.y)  # Compute the loss.\n",
        "      loss.backward()  # Derive gradients.\n",
        "      optimizer.step()  # Update parameters based on gradients.\n",
        "      optimizer.zero_grad()  \n",
        "\n",
        "def test(loader):\n",
        "     model.eval()\n",
        "     correct = 0\n",
        "     for data in loader:  # Iterate in batches over the training/test dataset.\n",
        "      data.to(device)\n",
        "      out = model(data.x, data.edge_index, data.batch)  \n",
        "      pred = out.argmax(dim=1) \n",
        "      correct += int((pred == data.y).sum())  # Check against ground-truth labels.\n",
        "     return correct / len(loader.dataset)  # Derive ratio of correct predictions.\n",
        "\n",
        "\n",
        "for epoch in range(1, 25):\n",
        "    train()\n",
        "    train_acc = test(train_loader)\n",
        "    train_acc_list.append(train_acc)\n",
        "    test_acc = test(test_loader)\n",
        "    test_acc_list.append(test_acc)\n",
        "    print(f'Epoch: {epoch:03d}, Train Acc: {train_acc:.4f}, Test Acc: {test_acc:.4f}')"
      ],
      "metadata": {
        "id": "j3n5NFo6xLb6",
        "colab": {
          "base_uri": "https://localhost:8080/"
        },
        "outputId": "6219ec9f-18c6-4275-81f3-e16c67e94e17"
      },
      "execution_count": 17,
      "outputs": [
        {
          "output_type": "stream",
          "name": "stdout",
          "text": [
            "Epoch: 001, Train Acc: 0.7579, Test Acc: 0.7530\n",
            "Epoch: 002, Train Acc: 0.7667, Test Acc: 0.7651\n",
            "Epoch: 003, Train Acc: 0.7670, Test Acc: 0.7643\n",
            "Epoch: 004, Train Acc: 0.7686, Test Acc: 0.7629\n",
            "Epoch: 005, Train Acc: 0.7657, Test Acc: 0.7616\n",
            "Epoch: 006, Train Acc: 0.7663, Test Acc: 0.7635\n",
            "Epoch: 007, Train Acc: 0.7685, Test Acc: 0.7650\n",
            "Epoch: 008, Train Acc: 0.7542, Test Acc: 0.7499\n",
            "Epoch: 009, Train Acc: 0.7659, Test Acc: 0.7613\n",
            "Epoch: 010, Train Acc: 0.7662, Test Acc: 0.7616\n",
            "Epoch: 011, Train Acc: 0.7656, Test Acc: 0.7634\n",
            "Epoch: 012, Train Acc: 0.7568, Test Acc: 0.7530\n",
            "Epoch: 013, Train Acc: 0.7702, Test Acc: 0.7676\n",
            "Epoch: 014, Train Acc: 0.7694, Test Acc: 0.7667\n",
            "Epoch: 015, Train Acc: 0.7692, Test Acc: 0.7646\n",
            "Epoch: 016, Train Acc: 0.7670, Test Acc: 0.7639\n",
            "Epoch: 017, Train Acc: 0.7661, Test Acc: 0.7606\n",
            "Epoch: 018, Train Acc: 0.7701, Test Acc: 0.7669\n",
            "Epoch: 019, Train Acc: 0.7710, Test Acc: 0.7677\n",
            "Epoch: 020, Train Acc: 0.7621, Test Acc: 0.7587\n",
            "Epoch: 021, Train Acc: 0.7616, Test Acc: 0.7611\n",
            "Epoch: 022, Train Acc: 0.7711, Test Acc: 0.7687\n",
            "Epoch: 023, Train Acc: 0.7705, Test Acc: 0.7674\n",
            "Epoch: 024, Train Acc: 0.7670, Test Acc: 0.7642\n"
          ]
        }
      ]
    },
    {
      "cell_type": "code",
      "source": [
        "# Plot training and testing accuracy vs epochs\n",
        "plt.plot(train_acc_list, label='Training Acc')\n",
        "plt.plot(test_acc_list, label='Testing Acc')\n",
        "plt.xlabel('Epoch')\n",
        "plt.ylabel('Accuracy')\n",
        "plt.legend()\n",
        "plt.show()"
      ],
      "metadata": {
        "colab": {
          "base_uri": "https://localhost:8080/",
          "height": 449
        },
        "id": "VIK94pRpzWIn",
        "outputId": "030dd823-874e-4037-c1aa-1bd721ac072d"
      },
      "execution_count": 18,
      "outputs": [
        {
          "output_type": "display_data",
          "data": {
            "text/plain": [
              "<Figure size 640x480 with 1 Axes>"
            ],
            "image/png": "[encoded data removed]"
          },
          "metadata": {}
        }
      ]
    },
    {
      "cell_type": "code",
      "source": [
        "from sklearn.metrics import roc_auc_score\n",
        "\n",
        "def test(loader):\n",
        "     model.eval()\n",
        "     y_true = []\n",
        "     y_scores = []\n",
        "     for data in loader:\n",
        "        data.to(device)\n",
        "        out = model(data.x, data.edge_index, data.batch)\n",
        "        pred = out.argmax(dim=1)\n",
        "        y_true += data.y.tolist()\n",
        "        y_scores += out[:,1].tolist() # use the probability scores for class 1\n",
        "     auc_score = roc_auc_score(y_true, y_scores)\n",
        "     return auc_score\n",
        "\n",
        "auc_score = test(test_loader)\n",
        "print(f'AUC Score: {auc_score:.4f}')"
      ],
      "metadata": {
        "colab": {
          "base_uri": "https://localhost:8080/"
        },
        "id": "2jtN3zb3rOHk",
        "outputId": "7a5e7170-101c-4e0d-f506-cc5e3e48b98c"
      },
      "execution_count": 19,
      "outputs": [
        {
          "output_type": "stream",
          "name": "stdout",
          "text": [
            "AUC Score: 0.8449\n"
          ]
        }
      ]
    },
    {
      "cell_type": "markdown",
      "source": [
        "### Code Summary"
      ],
      "metadata": {
        "id": "99B8dty7zFVW"
      }
    },
    {
      "cell_type": "markdown",
      "source": [
        "So we tried two different GNN architectures:\n",
        "\n",
        "1) Particle-Net Lite (P-Net)\n",
        "\n",
        "2) Graph Convolution Network (GCN)\n",
        "\n",
        "Without much tuning on the hyperparameters for both cases, it is clear that the networks have quite good separation power. \n",
        "\n",
        "\n",
        "Note that the total samples used in the dataset mattered in the model's performance. The original P-Net paper used 2000k dataset, twenty times the dataset used in this project, and hence the performance of the original paper's model is much better (to be expected as more data usually means better model).\n",
        "\n"
      ],
      "metadata": {
        "id": "Mtrno992zeE7"
      }
    }
  ],
  "metadata": {
    "colab": {
      "provenance": []
    },
    "kernelspec": {
      "display_name": "Python 3",
      "name": "python3"
    },
    "language_info": {
      "name": "python"
    },
    "gpuClass": "standard"
  },
  "nbformat": 4,
  "nbformat_minor": 0
}